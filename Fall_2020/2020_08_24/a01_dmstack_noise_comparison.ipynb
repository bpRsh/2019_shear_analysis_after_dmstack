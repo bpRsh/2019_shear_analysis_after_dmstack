{
 "cells": [
  {
   "cell_type": "markdown",
   "metadata": {
    "toc": true
   },
   "source": [
    "<h1>Table of Contents<span class=\"tocSkip\"></span></h1>\n",
    "<div class=\"toc\"><ul class=\"toc-item\"><li><span><a href=\"#Load-the-final-text-cleancat15-data\" data-toc-modified-id=\"Load-the-final-text-cleancat15-data-1\"><span class=\"toc-item-num\">1&nbsp;&nbsp;</span>Load the final text cleancat15 data</a></span></li><li><span><a href=\"#Compare-how-many-outputs-are-produced-by-dmstack-for-20-files\" data-toc-modified-id=\"Compare-how-many-outputs-are-produced-by-dmstack-for-20-files-2\"><span class=\"toc-item-num\">2&nbsp;&nbsp;</span>Compare how many outputs are produced by dmstack for 20 files</a></span></li><li><span><a href=\"#Analysis\" data-toc-modified-id=\"Analysis-3\"><span class=\"toc-item-num\">3&nbsp;&nbsp;</span>Analysis</a></span></li></ul></div>"
   ]
  },
  {
   "cell_type": "code",
   "execution_count": 1,
   "metadata": {
    "ExecuteTime": {
     "end_time": "2020-08-24T14:42:35.046048Z",
     "start_time": "2020-08-24T14:42:35.032545Z"
    }
   },
   "outputs": [
    {
     "data": {
      "application/javascript": [
       "IPython.OutputArea.auto_scroll_threshold = 9999;\n"
      ],
      "text/plain": [
       "<IPython.core.display.Javascript object>"
      ]
     },
     "metadata": {},
     "output_type": "display_data"
    }
   ],
   "source": [
    "%%javascript\n",
    "IPython.OutputArea.auto_scroll_threshold = 9999;"
   ]
  },
  {
   "cell_type": "markdown",
   "metadata": {},
   "source": [
    "# Load the final text cleancat15 data\n",
    "\n",
    "```\n",
    "g_sq = g00 g00 + g10 g10\n",
    "gmd_sq = gmd0**2 + gmd1**2\n",
    "\n",
    "```"
   ]
  },
  {
   "cell_type": "code",
   "execution_count": 3,
   "metadata": {
    "ExecuteTime": {
     "end_time": "2020-08-24T14:44:03.438337Z",
     "start_time": "2020-08-24T14:44:03.296352Z"
    }
   },
   "outputs": [
    {
     "name": "stdout",
     "output_type": "stream",
     "text": [
      "final_text_cleancat15_ngals10k_z1.5_noise100.txt final_text_cleancat15_ngals20k_z1.5_noise50.txt\r\n",
      "final_text_cleancat15_ngals10k_z1.5_noise50.txt  final_text_cleancat15_ngals5k_z1.5_noise100.txt\r\n",
      "final_text_cleancat15_ngals20k_z1.5_noise100.txt final_text_cleancat15_ngals5k_z1.5_noise50.txt\r\n"
     ]
    }
   ],
   "source": [
    "!ls data"
   ]
  },
  {
   "cell_type": "code",
   "execution_count": 4,
   "metadata": {
    "ExecuteTime": {
     "end_time": "2020-08-24T14:44:12.531301Z",
     "start_time": "2020-08-24T14:44:12.399902Z"
    }
   },
   "outputs": [
    {
     "name": "stdout",
     "output_type": "stream",
     "text": [
      "#       fN[0][0]       fN[1][0]       fN[2][0]       fN[3][0]       id[0][0]       id[1][0]       id[2][0]       id[3][0]           x[0]           x[1]     errx[0][0]     errx[0][1]     errx[1][0]     errx[1][1]     errx[2][0]     errx[2][1]     errx[3][0]     errx[3][1]        g[0][0]        g[0][1]        g[1][0]        g[1][1]        g[2][0]        g[2][1]        g[3][0]        g[3][1]    ellip[0][0]    ellip[1][0]    ellip[2][0]    ellip[3][0]     flux[0][0]     flux[1][0]     flux[2][0]     flux[3][0]   radius[0][0]   radius[1][0]   radius[2][0]   radius[3][0]      mag[0][0]      mag[1][0]      mag[2][0]      mag[3][0]          gm[0]          gm[1]          gc[0]          gc[1]         gmd[0]         gmd[1]         gcd[0]         gcd[1]\r\n",
      "               0              0              0              0           3839           3839           3861           3855       3125.414      2716.2403         0.0577         0.0924         0.0837         0.0593         0.0576         0.0924         0.0833         0.0592        -1.0025        -0.4059         1.0791         0.3301        -0.9811        -0.3988         1.0471         0.3158      1.0815549      1.1284604      1.0590555      1.0936855      105795.05      105898.21      105815.85      105924.74      4.1429941      4.1023666      4.1439218      4.1036121     -12.561163     -12.562222     -12.561377     -12.562494         0.0383        -0.0379          0.033        -0.0415        -1.0408         -0.368        -1.0141        -0.3573\r\n"
     ]
    }
   ],
   "source": [
    "!head -2 data/final_text_cleancat15_ngals5k_z1.5_noise50.txt"
   ]
  },
  {
   "cell_type": "markdown",
   "metadata": {},
   "source": [
    "# Compare how many outputs are produced by dmstack for 20 files"
   ]
  },
  {
   "cell_type": "code",
   "execution_count": 14,
   "metadata": {
    "ExecuteTime": {
     "end_time": "2020-08-24T15:04:00.054214Z",
     "start_time": "2020-08-24T15:03:59.993366Z"
    }
   },
   "outputs": [
    {
     "name": "stdout",
     "output_type": "stream",
     "text": [
      "data/final_text_cleancat15_ngals5k_z1.5_noise100_000_019.txt 2507\n",
      "data/final_text_cleancat15_ngals5k_z1.5_noise50_000_019.txt 3651\n"
     ]
    }
   ],
   "source": [
    "%%bash\n",
    "for f in $(ls data/*000_019*.txt)\n",
    "  do \n",
    "  n=$(cat $f | wc -l)\n",
    "  echo $f $n\n",
    "done;"
   ]
  },
  {
   "cell_type": "code",
   "execution_count": 15,
   "metadata": {
    "ExecuteTime": {
     "end_time": "2020-08-24T15:04:00.876396Z",
     "start_time": "2020-08-24T15:04:00.817118Z"
    }
   },
   "outputs": [
    {
     "name": "stdout",
     "output_type": "stream",
     "text": [
      "data/final_text_cleancat15_ngals10k_z1.5_noise100_100_119.txt 5418\n",
      "data/final_text_cleancat15_ngals10k_z1.5_noise50_100_119.txt 8143\n",
      "data/final_text_cleancat15_ngals20k_z1.5_noise100_100_119.txt 7473\n",
      "data/final_text_cleancat15_ngals20k_z1.5_noise50_100_119.txt 10721\n"
     ]
    }
   ],
   "source": [
    "%%bash\n",
    "for f in $(ls data/*100_119*.txt)\n",
    "  do \n",
    "  n=$(cat $f | wc -l)\n",
    "  echo $f $n\n",
    "done;"
   ]
  },
  {
   "cell_type": "markdown",
   "metadata": {},
   "source": [
    "# Analysis\n",
    "For all cases, noise50 has more object deteced than noise100.\n",
    "Note that when I ran noise5, it produced 2 outputs in 5 days of simulation in simplici,\n",
    "so I stopped the simulation.\n",
    "\n",
    "For ngals20knoise50 case:\n",
    "- we have 20 files, so we have 20*20k = 400k files\n",
    "- dmstack detected only 10k files."
   ]
  },
  {
   "cell_type": "code",
   "execution_count": 16,
   "metadata": {
    "ExecuteTime": {
     "end_time": "2020-08-24T15:08:52.444842Z",
     "start_time": "2020-08-24T15:08:52.438859Z"
    }
   },
   "outputs": [
    {
     "data": {
      "text/plain": [
       "2.5"
      ]
     },
     "execution_count": 16,
     "metadata": {},
     "output_type": "execute_result"
    }
   ],
   "source": [
    "10/400*100 # %"
   ]
  },
  {
   "cell_type": "code",
   "execution_count": 17,
   "metadata": {
    "ExecuteTime": {
     "end_time": "2020-08-24T15:09:11.349027Z",
     "start_time": "2020-08-24T15:09:11.345434Z"
    }
   },
   "outputs": [],
   "source": [
    "# only 2.5% objects are detected by dmstack."
   ]
  },
  {
   "cell_type": "code",
   "execution_count": null,
   "metadata": {},
   "outputs": [],
   "source": [
    "\"\"\"\n",
    "Note: total_objs = ngals * 20 (for 20 files)\n",
    "Note: the input 20 files for ngals5k are different from 10k and 20k\n",
    "      but files are same for 10k and 20k\n",
    "\n",
    "\n",
    "data/final_text_cleancat15_ngals5k_z1.5_noise100_000_019.txt 2507\n",
    "data/final_text_cleancat15_ngals5k_z1.5_noise50_000_019.txt 3651\n",
    "\n",
    "data/final_text_cleancat15_ngals10k_z1.5_noise100_100_119.txt 5418\n",
    "data/final_text_cleancat15_ngals10k_z1.5_noise50_100_119.txt 8143\n",
    "data/final_text_cleancat15_ngals20k_z1.5_noise100_100_119.txt 7473\n",
    "data/final_text_cleancat15_ngals20k_z1.5_noise50_100_119.txt 10721\n",
    "\n",
    "\n",
    "cleancat  ngals z    dmstack_noise  objects_detected  total_objs percent\n",
    "------------------------------------------------------------------------\n",
    "15        5k    1.5  50             3651              100k       3.65%\n",
    "15        5k    1.5  100            2507              100k       2.5%\n",
    "------------------------------------------------------------------------\n",
    "\n",
    "15        10k   1.5  50             8143              200k       4.07%\n",
    "15        10k   1.5  100            5418              200k       2.7%\n",
    "15        20k   1.5  50             10721             400k       2.68%\n",
    "15        20k   1.5  100            7473              400k       1.86%\n",
    "\n",
    "\n",
    "Best so far: noise 50 ngals10k  with 4% object detection.\n",
    "             There are 200k objects in 20 files, but dmstack detected\n",
    "             only 8k files (4%).\n",
    "\"\"\";"
   ]
  }
 ],
 "metadata": {
  "kernelspec": {
   "display_name": "Python 3",
   "language": "python",
   "name": "python3"
  },
  "language_info": {
   "codemirror_mode": {
    "name": "ipython",
    "version": 3
   },
   "file_extension": ".py",
   "mimetype": "text/x-python",
   "name": "python",
   "nbconvert_exporter": "python",
   "pygments_lexer": "ipython3",
   "version": "3.7.6"
  },
  "toc": {
   "base_numbering": 1,
   "nav_menu": {
    "height": "45px",
    "width": "252px"
   },
   "number_sections": true,
   "sideBar": true,
   "skip_h1_title": false,
   "title_cell": "Table of Contents",
   "title_sidebar": "Contents",
   "toc_cell": true,
   "toc_position": {},
   "toc_section_display": "block",
   "toc_window_display": false
  },
  "varInspector": {
   "cols": {
    "lenName": 16,
    "lenType": 16,
    "lenVar": 40
   },
   "kernels_config": {
    "python": {
     "delete_cmd_postfix": "",
     "delete_cmd_prefix": "del ",
     "library": "var_list.py",
     "varRefreshCmd": "print(var_dic_list())"
    },
    "r": {
     "delete_cmd_postfix": ") ",
     "delete_cmd_prefix": "rm(",
     "library": "var_list.r",
     "varRefreshCmd": "cat(var_dic_list()) "
    }
   },
   "types_to_exclude": [
    "module",
    "function",
    "builtin_function_or_method",
    "instance",
    "_Feature"
   ],
   "window_display": false
  }
 },
 "nbformat": 4,
 "nbformat_minor": 2
}
